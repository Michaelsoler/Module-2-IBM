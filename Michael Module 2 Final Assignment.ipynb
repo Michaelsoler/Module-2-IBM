{
 "cells": [
  {
   "cell_type": "markdown",
   "id": "2aa98ba0-0f7e-4ad0-a58d-ab5567c2f9ab",
   "metadata": {},
   "source": [
    "Title: Michael's Notebook"
   ]
  },
  {
   "cell_type": "markdown",
   "id": "e1d17c0e-39b3-4e9d-9e75-7d12c50920a1",
   "metadata": {},
   "source": [
    "Introduction Final Assignment: Module 2"
   ]
  },
  {
   "cell_type": "markdown",
   "id": "61df53b6-c71a-4c4d-813b-9c352f9a2632",
   "metadata": {},
   "source": [
    "Data Science languages list : Python, Julia, R, SQL"
   ]
  },
  {
   "cell_type": "markdown",
   "id": "c89a0d68-5373-40c3-b5d8-ce80d4abed2a",
   "metadata": {},
   "source": [
    "Data Science libraries list: GGplot, MATPLOTLIB, NUMPY, PANDAS, PLOTLY"
   ]
  },
  {
   "cell_type": "markdown",
   "id": "8f2ca223-304a-4075-9be6-363083518e27",
   "metadata": {},
   "source": [
    "Data Science Tools: Git, Github, Jupyter, Jupyter Notebook, R Studio"
   ]
  },
  {
   "cell_type": "markdown",
   "id": "8628b8fd-f7f2-48e8-9ebf-68ff50160e0b",
   "metadata": {},
   "source": [
    "Arithmetic examples: 7+5, 7-5, 7/5, 7*5, (7+5)*5, 8/12, 1*2/10"
   ]
  },
  {
   "cell_type": "code",
   "execution_count": 1,
   "id": "75bcd3f1-d5c6-4999-bf0e-6c4e7850f0ac",
   "metadata": {
    "tags": []
   },
   "outputs": [
    {
     "data": {
      "text/plain": [
       "96"
      ]
     },
     "execution_count": 1,
     "metadata": {},
     "output_type": "execute_result"
    }
   ],
   "source": [
    "(7+5)*8"
   ]
  },
  {
   "cell_type": "code",
   "execution_count": 6,
   "id": "a8325bd2-791c-4b84-9938-10b22a63ea80",
   "metadata": {
    "tags": []
   },
   "outputs": [
    {
     "data": {
      "text/plain": [
       "3.25"
      ]
     },
     "execution_count": 6,
     "metadata": {},
     "output_type": "execute_result"
    }
   ],
   "source": [
    "Min=195\n",
    "Hours = Min/60\n",
    "Hours"
   ]
  },
  {
   "cell_type": "markdown",
   "id": "cfe3673e-bedc-4400-be49-00108ccbf185",
   "metadata": {},
   "source": [
    "The objectives were to create a title, create an introduction, list DS languages, list DS libraries, DS tools and arithmetic code examples in markdown. Lastly, to create a code that included sum and multiplication, additionally create a code that converts minutes to hours. "
   ]
  },
  {
   "cell_type": "markdown",
   "id": "5165326a-a801-4c9a-b47a-e7452934ce3c",
   "metadata": {},
   "source": [
    "Author: Michael Soler"
   ]
  }
 ],
 "metadata": {
  "kernelspec": {
   "display_name": "Python",
   "language": "python",
   "name": "conda-env-python-py"
  },
  "language_info": {
   "codemirror_mode": {
    "name": "ipython",
    "version": 3
   },
   "file_extension": ".py",
   "mimetype": "text/x-python",
   "name": "python",
   "nbconvert_exporter": "python",
   "pygments_lexer": "ipython3",
   "version": "3.7.12"
  }
 },
 "nbformat": 4,
 "nbformat_minor": 5
}
